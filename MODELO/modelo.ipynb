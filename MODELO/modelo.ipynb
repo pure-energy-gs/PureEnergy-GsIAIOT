{
 "cells": [
  {
   "cell_type": "markdown",
   "metadata": {},
   "source": [
    "## Passo 1: Importação das Bibliotecas"
   ]
  },
  {
   "cell_type": "code",
   "execution_count": 1,
   "metadata": {},
   "outputs": [],
   "source": [
    "import pandas as pd"
   ]
  },
  {
   "cell_type": "markdown",
   "metadata": {},
   "source": [
    "## Passo 2: Carregamento do Dataset"
   ]
  },
  {
   "cell_type": "code",
   "execution_count": 2,
   "metadata": {},
   "outputs": [],
   "source": [
    "arquivo_csv = './../DADOS/dados_combinados.csv'  \n",
    "dados = pd.read_csv(arquivo_csv, sep=',')"
   ]
  },
  {
   "cell_type": "markdown",
   "metadata": {},
   "source": [
    "## Passo 3: Visualização Inicial do Dataset"
   ]
  },
  {
   "cell_type": "code",
   "execution_count": 3,
   "metadata": {},
   "outputs": [
    {
     "name": "stdout",
     "output_type": "stream",
     "text": [
      "Visualização inicial do dataset:\n",
      "   ID_COMODO  ID_USUARIO NOME_COMODO                      DESCRICAO_x  \\\n",
      "0          1           1     Varanda             CAA modo 1 - arejado   \n",
      "1          2           2      Quarto  CAA modo 2 - com mAA3veis novos   \n",
      "2          3           3     Varanda             CAA modo 3 - arejado   \n",
      "3          4           4      Quarto       CAA modo 4 - bem iluminado   \n",
      "4          5           5      Quarto  CAA modo 5 - com mAA3veis novos   \n",
      "\n",
      "   ID_CONSUMO_MENSAL       MES_REFERENCIA  CONSUMO_MENSAL_KWH  \\\n",
      "0                1.0  2024-02-01 00:00:00              540.99   \n",
      "1                2.0  2024-03-01 00:00:00              414.30   \n",
      "2                3.0  2024-04-01 00:00:00              668.66   \n",
      "3                4.0  2024-05-01 00:00:00              932.57   \n",
      "4                5.0  2024-06-01 00:00:00              284.18   \n",
      "\n",
      "   ID_ELETRODOMESTICO NOME_ELETRODOMESTICO  POTENCIA_WATTS  ...         CEP  \\\n",
      "0                   1      Ar-condicionado            1662  ...  21897-5349   \n",
      "1                   2             LAAmpada            2850  ...  36475-3864   \n",
      "2                   3               FogAAo             900  ...  40349-7389   \n",
      "3                   4                   TV            1152  ...  82375-7672   \n",
      "4                   5            Geladeira            1427  ...  81093-3720   \n",
      "\n",
      "  ID_PONTUACAO  PONTOS_TOTAIS     DATA_ATUALIZACAO  ID_RESIDENCIA  \\\n",
      "0            1             95  2024-11-20 00:00:00              1   \n",
      "1            2             16  2024-11-20 00:00:00              2   \n",
      "2            3             35  2024-11-20 00:00:00              3   \n",
      "3            4             10  2024-11-20 00:00:00              4   \n",
      "4            5             77  2024-11-20 00:00:00              5   \n",
      "\n",
      "  TIPO_RESIDENCIA QUANTIDADE_PESSOAS      NOME                 EMAIL    SENHA  \n",
      "0     Apartamento                  3       Ana       ana@exemplo.com   senha3  \n",
      "1            Casa                  1    Carlos    carlos@exemplo.com   senha6  \n",
      "2        ChAAcara                  4  Fernanda  fernanda@exemplo.com   senha9  \n",
      "3        ChAAcara                  2     JoAAo     joAAo@exemplo.com  senha12  \n",
      "4     Apartamento                  5   Larissa   larissa@exemplo.com  senha15  \n",
      "\n",
      "[5 rows x 29 columns]\n"
     ]
    }
   ],
   "source": [
    "print(\"Visualização inicial do dataset:\")\n",
    "print(dados.head())"
   ]
  },
  {
   "cell_type": "markdown",
   "metadata": {},
   "source": [
    "## Passo 4: Exibição de Informações Gerais"
   ]
  },
  {
   "cell_type": "code",
   "execution_count": 4,
   "metadata": {},
   "outputs": [
    {
     "name": "stdout",
     "output_type": "stream",
     "text": [
      "\n",
      "Informações gerais:\n",
      "<class 'pandas.core.frame.DataFrame'>\n",
      "RangeIndex: 49 entries, 0 to 48\n",
      "Data columns (total 29 columns):\n",
      " #   Column                Non-Null Count  Dtype  \n",
      "---  ------                --------------  -----  \n",
      " 0   ID_COMODO             49 non-null     int64  \n",
      " 1   ID_USUARIO            49 non-null     int64  \n",
      " 2   NOME_COMODO           49 non-null     object \n",
      " 3   DESCRICAO_x           49 non-null     object \n",
      " 4   ID_CONSUMO_MENSAL     38 non-null     float64\n",
      " 5   MES_REFERENCIA        38 non-null     object \n",
      " 6   CONSUMO_MENSAL_KWH    38 non-null     float64\n",
      " 7   ID_ELETRODOMESTICO    49 non-null     int64  \n",
      " 8   NOME_ELETRODOMESTICO  49 non-null     object \n",
      " 9   POTENCIA_WATTS        49 non-null     int64  \n",
      " 10  HORAS_USO_DIA         49 non-null     int64  \n",
      " 11  DESCRICAO_y           49 non-null     object \n",
      " 12  ID_ENDERECO           49 non-null     int64  \n",
      " 13  LOGRADOURO            49 non-null     object \n",
      " 14  NUMERO                49 non-null     int64  \n",
      " 15  COMPLEMENTO           49 non-null     object \n",
      " 16  BAIRRO                49 non-null     object \n",
      " 17  CIDADE                49 non-null     object \n",
      " 18  ESTADO                49 non-null     object \n",
      " 19  CEP                   49 non-null     object \n",
      " 20  ID_PONTUACAO          49 non-null     int64  \n",
      " 21  PONTOS_TOTAIS         49 non-null     int64  \n",
      " 22  DATA_ATUALIZACAO      49 non-null     object \n",
      " 23  ID_RESIDENCIA         49 non-null     int64  \n",
      " 24  TIPO_RESIDENCIA       49 non-null     object \n",
      " 25  QUANTIDADE_PESSOAS    49 non-null     int64  \n",
      " 26  NOME                  49 non-null     object \n",
      " 27  EMAIL                 49 non-null     object \n",
      " 28  SENHA                 49 non-null     object \n",
      "dtypes: float64(2), int64(11), object(16)\n",
      "memory usage: 11.2+ KB\n",
      "None\n"
     ]
    }
   ],
   "source": [
    "print(\"\\nInformações gerais:\")\n",
    "print(dados.info())"
   ]
  },
  {
   "cell_type": "markdown",
   "metadata": {},
   "source": [
    "## Passo 5: Estatísticas Descritivas"
   ]
  },
  {
   "cell_type": "code",
   "execution_count": 5,
   "metadata": {},
   "outputs": [
    {
     "name": "stdout",
     "output_type": "stream",
     "text": [
      "\n",
      "Estatísticas descritivas:\n",
      "       ID_COMODO  ID_USUARIO  ID_CONSUMO_MENSAL  CONSUMO_MENSAL_KWH  \\\n",
      "count  49.000000   49.000000          38.000000           38.000000   \n",
      "mean   25.551020   25.551020          24.710526          566.905526   \n",
      "std    14.723933   14.723933          14.837695          253.351337   \n",
      "min     1.000000    1.000000           1.000000          111.640000   \n",
      "25%    13.000000   13.000000          13.250000          361.992500   \n",
      "50%    26.000000   26.000000          25.500000          611.090000   \n",
      "75%    38.000000   38.000000          37.750000          809.372500   \n",
      "max    50.000000   50.000000          50.000000          964.770000   \n",
      "\n",
      "       ID_ELETRODOMESTICO  POTENCIA_WATTS  HORAS_USO_DIA  ID_ENDERECO  \\\n",
      "count           49.000000       49.000000      49.000000    49.000000   \n",
      "mean            25.551020     1708.877551       4.795918    25.551020   \n",
      "std             14.723933      682.256814       3.068520    14.723933   \n",
      "min              1.000000      630.000000       1.000000     1.000000   \n",
      "25%             13.000000     1190.000000       2.000000    13.000000   \n",
      "50%             26.000000     1680.000000       4.000000    26.000000   \n",
      "75%             38.000000     2224.000000       7.000000    38.000000   \n",
      "max             50.000000     2927.000000      10.000000    50.000000   \n",
      "\n",
      "           NUMERO  ID_PONTUACAO  PONTOS_TOTAIS  ID_RESIDENCIA  \\\n",
      "count   49.000000     49.000000      49.000000      49.000000   \n",
      "mean   548.204082     25.551020      53.938776      25.551020   \n",
      "std    298.819691     14.723933      28.116134      14.723933   \n",
      "min     40.000000      1.000000      10.000000       1.000000   \n",
      "25%    281.000000     13.000000      27.000000      13.000000   \n",
      "50%    543.000000     26.000000      55.000000      26.000000   \n",
      "75%    803.000000     38.000000      78.000000      38.000000   \n",
      "max    996.000000     50.000000      98.000000      50.000000   \n",
      "\n",
      "       QUANTIDADE_PESSOAS  \n",
      "count           49.000000  \n",
      "mean             3.428571  \n",
      "std              1.744037  \n",
      "min              1.000000  \n",
      "25%              2.000000  \n",
      "50%              3.000000  \n",
      "75%              5.000000  \n",
      "max              6.000000  \n"
     ]
    }
   ],
   "source": [
    "print(\"\\nEstatísticas descritivas:\")\n",
    "print(dados.describe())"
   ]
  },
  {
   "cell_type": "markdown",
   "metadata": {},
   "source": [
    "## Passo 6: Seleção de Colunas Relevantes"
   ]
  },
  {
   "cell_type": "code",
   "execution_count": 6,
   "metadata": {},
   "outputs": [],
   "source": [
    "colunas_relevantes = ['CONSUMO_MENSAL_KWH', 'POTENCIA_WATTS', 'HORAS_USO_DIA', 'NOME_ELETRODOMESTICO']\n",
    "dados_filtrados = dados[colunas_relevantes]"
   ]
  },
  {
   "cell_type": "markdown",
   "metadata": {},
   "source": [
    "## Passo 7: Verificação de Valores Ausentes"
   ]
  },
  {
   "cell_type": "code",
   "execution_count": 7,
   "metadata": {},
   "outputs": [
    {
     "name": "stdout",
     "output_type": "stream",
     "text": [
      "Dados filtrados:\n",
      "   CONSUMO_MENSAL_KWH  POTENCIA_WATTS  HORAS_USO_DIA NOME_ELETRODOMESTICO\n",
      "0              540.99            1662              1      Ar-condicionado\n",
      "1              414.30            2850              7             LAAmpada\n",
      "2              668.66             900              5               FogAAo\n",
      "3              932.57            1152              2                   TV\n",
      "4              284.18            1427              7            Geladeira\n"
     ]
    }
   ],
   "source": [
    "print(\"Dados filtrados:\")\n",
    "print(dados_filtrados.head())"
   ]
  },
  {
   "cell_type": "markdown",
   "metadata": {},
   "source": [
    "## Passo 8: Tratamento de Valores Ausentes"
   ]
  },
  {
   "cell_type": "code",
   "execution_count": 8,
   "metadata": {},
   "outputs": [
    {
     "name": "stdout",
     "output_type": "stream",
     "text": [
      "\n",
      "Valores ausentes:\n",
      "CONSUMO_MENSAL_KWH      11\n",
      "POTENCIA_WATTS           0\n",
      "HORAS_USO_DIA            0\n",
      "NOME_ELETRODOMESTICO     0\n",
      "dtype: int64\n"
     ]
    }
   ],
   "source": [
    "print(\"\\nValores ausentes:\")\n",
    "print(dados_filtrados.isnull().sum())"
   ]
  },
  {
   "cell_type": "code",
   "execution_count": 9,
   "metadata": {},
   "outputs": [
    {
     "name": "stdout",
     "output_type": "stream",
     "text": [
      "Valores ausentes após preenchimento:\n",
      "CONSUMO_MENSAL_KWH      0\n",
      "POTENCIA_WATTS          0\n",
      "HORAS_USO_DIA           0\n",
      "NOME_ELETRODOMESTICO    0\n",
      "dtype: int64\n",
      "\n",
      "Dados filtrados (amostra):\n",
      "   CONSUMO_MENSAL_KWH  POTENCIA_WATTS  HORAS_USO_DIA NOME_ELETRODOMESTICO\n",
      "0              540.99            1662              1      Ar-condicionado\n",
      "1              414.30            2850              7             LAAmpada\n",
      "2              668.66             900              5               FogAAo\n",
      "3              932.57            1152              2                   TV\n",
      "4              284.18            1427              7            Geladeira\n"
     ]
    },
    {
     "name": "stderr",
     "output_type": "stream",
     "text": [
      "C:\\Users\\zenet\\AppData\\Local\\Temp\\ipykernel_42256\\3305409015.py:2: FutureWarning: A value is trying to be set on a copy of a DataFrame or Series through chained assignment using an inplace method.\n",
      "The behavior will change in pandas 3.0. This inplace method will never work because the intermediate object on which we are setting values always behaves as a copy.\n",
      "\n",
      "For example, when doing 'df[col].method(value, inplace=True)', try using 'df.method({col: value}, inplace=True)' or df[col] = df[col].method(value) instead, to perform the operation inplace on the original object.\n",
      "\n",
      "\n",
      "  dados_filtrados['CONSUMO_MENSAL_KWH'].fillna(mediana_consumo, inplace=True)\n",
      "C:\\Users\\zenet\\AppData\\Local\\Temp\\ipykernel_42256\\3305409015.py:2: SettingWithCopyWarning: \n",
      "A value is trying to be set on a copy of a slice from a DataFrame\n",
      "\n",
      "See the caveats in the documentation: https://pandas.pydata.org/pandas-docs/stable/user_guide/indexing.html#returning-a-view-versus-a-copy\n",
      "  dados_filtrados['CONSUMO_MENSAL_KWH'].fillna(mediana_consumo, inplace=True)\n"
     ]
    }
   ],
   "source": [
    "mediana_consumo = dados_filtrados['CONSUMO_MENSAL_KWH'].median()\n",
    "dados_filtrados['CONSUMO_MENSAL_KWH'].fillna(mediana_consumo, inplace=True)\n",
    "\n",
    "print(\"Valores ausentes após preenchimento:\")\n",
    "print(dados_filtrados.isnull().sum())\n",
    "\n",
    "print(\"\\nDados filtrados (amostra):\")\n",
    "print(dados_filtrados.head())\n"
   ]
  },
  {
   "cell_type": "markdown",
   "metadata": {},
   "source": [
    "## Passo 9: Categorização dos Dados"
   ]
  },
  {
   "cell_type": "code",
   "execution_count": 10,
   "metadata": {},
   "outputs": [
    {
     "name": "stdout",
     "output_type": "stream",
     "text": [
      "\n",
      "Dados categorizados (amostra):\n",
      "   CONSUMO_MENSAL_KWH CATEGORIA_CONSUMO\n",
      "0              540.99         Eficiente\n",
      "1              414.30         Eficiente\n",
      "2              668.66       Ineficiente\n",
      "3              932.57       Ineficiente\n",
      "4              284.18         Eficiente\n"
     ]
    },
    {
     "name": "stderr",
     "output_type": "stream",
     "text": [
      "C:\\Users\\zenet\\AppData\\Local\\Temp\\ipykernel_42256\\1081636530.py:3: SettingWithCopyWarning: \n",
      "A value is trying to be set on a copy of a slice from a DataFrame.\n",
      "Try using .loc[row_indexer,col_indexer] = value instead\n",
      "\n",
      "See the caveats in the documentation: https://pandas.pydata.org/pandas-docs/stable/user_guide/indexing.html#returning-a-view-versus-a-copy\n",
      "  dados_filtrados['CATEGORIA_CONSUMO'] = dados_filtrados['CONSUMO_MENSAL_KWH'].apply(\n"
     ]
    }
   ],
   "source": [
    "limiar_consumo = dados_filtrados['CONSUMO_MENSAL_KWH'].median()\n",
    "\n",
    "dados_filtrados['CATEGORIA_CONSUMO'] = dados_filtrados['CONSUMO_MENSAL_KWH'].apply(\n",
    "    lambda x: 'Eficiente' if x <= limiar_consumo else 'Ineficiente'\n",
    ")\n",
    "\n",
    "print(\"\\nDados categorizados (amostra):\")\n",
    "print(dados_filtrados[['CONSUMO_MENSAL_KWH', 'CATEGORIA_CONSUMO']].head())\n"
   ]
  },
  {
   "cell_type": "code",
   "execution_count": 11,
   "metadata": {},
   "outputs": [
    {
     "data": {
      "application/vnd.plotly.v1+json": {
       "config": {
        "plotlyServerURL": "https://plot.ly"
       },
       "data": [
        {
         "domain": {
          "x": [
           0,
           1
          ],
          "y": [
           0,
           1
          ]
         },
         "hole": 0.3,
         "hovertemplate": "label=%{label}<br>value=%{value}<extra></extra>",
         "labels": [
          "Eficiente",
          "Ineficiente"
         ],
         "legendgroup": "",
         "name": "",
         "showlegend": true,
         "type": "pie",
         "values": [
          30,
          19
         ]
        }
       ],
       "layout": {
        "legend": {
         "tracegroupgap": 0
        },
        "template": {
         "data": {
          "bar": [
           {
            "error_x": {
             "color": "#2a3f5f"
            },
            "error_y": {
             "color": "#2a3f5f"
            },
            "marker": {
             "line": {
              "color": "#E5ECF6",
              "width": 0.5
             },
             "pattern": {
              "fillmode": "overlay",
              "size": 10,
              "solidity": 0.2
             }
            },
            "type": "bar"
           }
          ],
          "barpolar": [
           {
            "marker": {
             "line": {
              "color": "#E5ECF6",
              "width": 0.5
             },
             "pattern": {
              "fillmode": "overlay",
              "size": 10,
              "solidity": 0.2
             }
            },
            "type": "barpolar"
           }
          ],
          "carpet": [
           {
            "aaxis": {
             "endlinecolor": "#2a3f5f",
             "gridcolor": "white",
             "linecolor": "white",
             "minorgridcolor": "white",
             "startlinecolor": "#2a3f5f"
            },
            "baxis": {
             "endlinecolor": "#2a3f5f",
             "gridcolor": "white",
             "linecolor": "white",
             "minorgridcolor": "white",
             "startlinecolor": "#2a3f5f"
            },
            "type": "carpet"
           }
          ],
          "choropleth": [
           {
            "colorbar": {
             "outlinewidth": 0,
             "ticks": ""
            },
            "type": "choropleth"
           }
          ],
          "contour": [
           {
            "colorbar": {
             "outlinewidth": 0,
             "ticks": ""
            },
            "colorscale": [
             [
              0,
              "#0d0887"
             ],
             [
              0.1111111111111111,
              "#46039f"
             ],
             [
              0.2222222222222222,
              "#7201a8"
             ],
             [
              0.3333333333333333,
              "#9c179e"
             ],
             [
              0.4444444444444444,
              "#bd3786"
             ],
             [
              0.5555555555555556,
              "#d8576b"
             ],
             [
              0.6666666666666666,
              "#ed7953"
             ],
             [
              0.7777777777777778,
              "#fb9f3a"
             ],
             [
              0.8888888888888888,
              "#fdca26"
             ],
             [
              1,
              "#f0f921"
             ]
            ],
            "type": "contour"
           }
          ],
          "contourcarpet": [
           {
            "colorbar": {
             "outlinewidth": 0,
             "ticks": ""
            },
            "type": "contourcarpet"
           }
          ],
          "heatmap": [
           {
            "colorbar": {
             "outlinewidth": 0,
             "ticks": ""
            },
            "colorscale": [
             [
              0,
              "#0d0887"
             ],
             [
              0.1111111111111111,
              "#46039f"
             ],
             [
              0.2222222222222222,
              "#7201a8"
             ],
             [
              0.3333333333333333,
              "#9c179e"
             ],
             [
              0.4444444444444444,
              "#bd3786"
             ],
             [
              0.5555555555555556,
              "#d8576b"
             ],
             [
              0.6666666666666666,
              "#ed7953"
             ],
             [
              0.7777777777777778,
              "#fb9f3a"
             ],
             [
              0.8888888888888888,
              "#fdca26"
             ],
             [
              1,
              "#f0f921"
             ]
            ],
            "type": "heatmap"
           }
          ],
          "heatmapgl": [
           {
            "colorbar": {
             "outlinewidth": 0,
             "ticks": ""
            },
            "colorscale": [
             [
              0,
              "#0d0887"
             ],
             [
              0.1111111111111111,
              "#46039f"
             ],
             [
              0.2222222222222222,
              "#7201a8"
             ],
             [
              0.3333333333333333,
              "#9c179e"
             ],
             [
              0.4444444444444444,
              "#bd3786"
             ],
             [
              0.5555555555555556,
              "#d8576b"
             ],
             [
              0.6666666666666666,
              "#ed7953"
             ],
             [
              0.7777777777777778,
              "#fb9f3a"
             ],
             [
              0.8888888888888888,
              "#fdca26"
             ],
             [
              1,
              "#f0f921"
             ]
            ],
            "type": "heatmapgl"
           }
          ],
          "histogram": [
           {
            "marker": {
             "pattern": {
              "fillmode": "overlay",
              "size": 10,
              "solidity": 0.2
             }
            },
            "type": "histogram"
           }
          ],
          "histogram2d": [
           {
            "colorbar": {
             "outlinewidth": 0,
             "ticks": ""
            },
            "colorscale": [
             [
              0,
              "#0d0887"
             ],
             [
              0.1111111111111111,
              "#46039f"
             ],
             [
              0.2222222222222222,
              "#7201a8"
             ],
             [
              0.3333333333333333,
              "#9c179e"
             ],
             [
              0.4444444444444444,
              "#bd3786"
             ],
             [
              0.5555555555555556,
              "#d8576b"
             ],
             [
              0.6666666666666666,
              "#ed7953"
             ],
             [
              0.7777777777777778,
              "#fb9f3a"
             ],
             [
              0.8888888888888888,
              "#fdca26"
             ],
             [
              1,
              "#f0f921"
             ]
            ],
            "type": "histogram2d"
           }
          ],
          "histogram2dcontour": [
           {
            "colorbar": {
             "outlinewidth": 0,
             "ticks": ""
            },
            "colorscale": [
             [
              0,
              "#0d0887"
             ],
             [
              0.1111111111111111,
              "#46039f"
             ],
             [
              0.2222222222222222,
              "#7201a8"
             ],
             [
              0.3333333333333333,
              "#9c179e"
             ],
             [
              0.4444444444444444,
              "#bd3786"
             ],
             [
              0.5555555555555556,
              "#d8576b"
             ],
             [
              0.6666666666666666,
              "#ed7953"
             ],
             [
              0.7777777777777778,
              "#fb9f3a"
             ],
             [
              0.8888888888888888,
              "#fdca26"
             ],
             [
              1,
              "#f0f921"
             ]
            ],
            "type": "histogram2dcontour"
           }
          ],
          "mesh3d": [
           {
            "colorbar": {
             "outlinewidth": 0,
             "ticks": ""
            },
            "type": "mesh3d"
           }
          ],
          "parcoords": [
           {
            "line": {
             "colorbar": {
              "outlinewidth": 0,
              "ticks": ""
             }
            },
            "type": "parcoords"
           }
          ],
          "pie": [
           {
            "automargin": true,
            "type": "pie"
           }
          ],
          "scatter": [
           {
            "fillpattern": {
             "fillmode": "overlay",
             "size": 10,
             "solidity": 0.2
            },
            "type": "scatter"
           }
          ],
          "scatter3d": [
           {
            "line": {
             "colorbar": {
              "outlinewidth": 0,
              "ticks": ""
             }
            },
            "marker": {
             "colorbar": {
              "outlinewidth": 0,
              "ticks": ""
             }
            },
            "type": "scatter3d"
           }
          ],
          "scattercarpet": [
           {
            "marker": {
             "colorbar": {
              "outlinewidth": 0,
              "ticks": ""
             }
            },
            "type": "scattercarpet"
           }
          ],
          "scattergeo": [
           {
            "marker": {
             "colorbar": {
              "outlinewidth": 0,
              "ticks": ""
             }
            },
            "type": "scattergeo"
           }
          ],
          "scattergl": [
           {
            "marker": {
             "colorbar": {
              "outlinewidth": 0,
              "ticks": ""
             }
            },
            "type": "scattergl"
           }
          ],
          "scattermapbox": [
           {
            "marker": {
             "colorbar": {
              "outlinewidth": 0,
              "ticks": ""
             }
            },
            "type": "scattermapbox"
           }
          ],
          "scatterpolar": [
           {
            "marker": {
             "colorbar": {
              "outlinewidth": 0,
              "ticks": ""
             }
            },
            "type": "scatterpolar"
           }
          ],
          "scatterpolargl": [
           {
            "marker": {
             "colorbar": {
              "outlinewidth": 0,
              "ticks": ""
             }
            },
            "type": "scatterpolargl"
           }
          ],
          "scatterternary": [
           {
            "marker": {
             "colorbar": {
              "outlinewidth": 0,
              "ticks": ""
             }
            },
            "type": "scatterternary"
           }
          ],
          "surface": [
           {
            "colorbar": {
             "outlinewidth": 0,
             "ticks": ""
            },
            "colorscale": [
             [
              0,
              "#0d0887"
             ],
             [
              0.1111111111111111,
              "#46039f"
             ],
             [
              0.2222222222222222,
              "#7201a8"
             ],
             [
              0.3333333333333333,
              "#9c179e"
             ],
             [
              0.4444444444444444,
              "#bd3786"
             ],
             [
              0.5555555555555556,
              "#d8576b"
             ],
             [
              0.6666666666666666,
              "#ed7953"
             ],
             [
              0.7777777777777778,
              "#fb9f3a"
             ],
             [
              0.8888888888888888,
              "#fdca26"
             ],
             [
              1,
              "#f0f921"
             ]
            ],
            "type": "surface"
           }
          ],
          "table": [
           {
            "cells": {
             "fill": {
              "color": "#EBF0F8"
             },
             "line": {
              "color": "white"
             }
            },
            "header": {
             "fill": {
              "color": "#C8D4E3"
             },
             "line": {
              "color": "white"
             }
            },
            "type": "table"
           }
          ]
         },
         "layout": {
          "annotationdefaults": {
           "arrowcolor": "#2a3f5f",
           "arrowhead": 0,
           "arrowwidth": 1
          },
          "autotypenumbers": "strict",
          "coloraxis": {
           "colorbar": {
            "outlinewidth": 0,
            "ticks": ""
           }
          },
          "colorscale": {
           "diverging": [
            [
             0,
             "#8e0152"
            ],
            [
             0.1,
             "#c51b7d"
            ],
            [
             0.2,
             "#de77ae"
            ],
            [
             0.3,
             "#f1b6da"
            ],
            [
             0.4,
             "#fde0ef"
            ],
            [
             0.5,
             "#f7f7f7"
            ],
            [
             0.6,
             "#e6f5d0"
            ],
            [
             0.7,
             "#b8e186"
            ],
            [
             0.8,
             "#7fbc41"
            ],
            [
             0.9,
             "#4d9221"
            ],
            [
             1,
             "#276419"
            ]
           ],
           "sequential": [
            [
             0,
             "#0d0887"
            ],
            [
             0.1111111111111111,
             "#46039f"
            ],
            [
             0.2222222222222222,
             "#7201a8"
            ],
            [
             0.3333333333333333,
             "#9c179e"
            ],
            [
             0.4444444444444444,
             "#bd3786"
            ],
            [
             0.5555555555555556,
             "#d8576b"
            ],
            [
             0.6666666666666666,
             "#ed7953"
            ],
            [
             0.7777777777777778,
             "#fb9f3a"
            ],
            [
             0.8888888888888888,
             "#fdca26"
            ],
            [
             1,
             "#f0f921"
            ]
           ],
           "sequentialminus": [
            [
             0,
             "#0d0887"
            ],
            [
             0.1111111111111111,
             "#46039f"
            ],
            [
             0.2222222222222222,
             "#7201a8"
            ],
            [
             0.3333333333333333,
             "#9c179e"
            ],
            [
             0.4444444444444444,
             "#bd3786"
            ],
            [
             0.5555555555555556,
             "#d8576b"
            ],
            [
             0.6666666666666666,
             "#ed7953"
            ],
            [
             0.7777777777777778,
             "#fb9f3a"
            ],
            [
             0.8888888888888888,
             "#fdca26"
            ],
            [
             1,
             "#f0f921"
            ]
           ]
          },
          "colorway": [
           "#636efa",
           "#EF553B",
           "#00cc96",
           "#ab63fa",
           "#FFA15A",
           "#19d3f3",
           "#FF6692",
           "#B6E880",
           "#FF97FF",
           "#FECB52"
          ],
          "font": {
           "color": "#2a3f5f"
          },
          "geo": {
           "bgcolor": "white",
           "lakecolor": "white",
           "landcolor": "#E5ECF6",
           "showlakes": true,
           "showland": true,
           "subunitcolor": "white"
          },
          "hoverlabel": {
           "align": "left"
          },
          "hovermode": "closest",
          "mapbox": {
           "style": "light"
          },
          "paper_bgcolor": "white",
          "plot_bgcolor": "#E5ECF6",
          "polar": {
           "angularaxis": {
            "gridcolor": "white",
            "linecolor": "white",
            "ticks": ""
           },
           "bgcolor": "#E5ECF6",
           "radialaxis": {
            "gridcolor": "white",
            "linecolor": "white",
            "ticks": ""
           }
          },
          "scene": {
           "xaxis": {
            "backgroundcolor": "#E5ECF6",
            "gridcolor": "white",
            "gridwidth": 2,
            "linecolor": "white",
            "showbackground": true,
            "ticks": "",
            "zerolinecolor": "white"
           },
           "yaxis": {
            "backgroundcolor": "#E5ECF6",
            "gridcolor": "white",
            "gridwidth": 2,
            "linecolor": "white",
            "showbackground": true,
            "ticks": "",
            "zerolinecolor": "white"
           },
           "zaxis": {
            "backgroundcolor": "#E5ECF6",
            "gridcolor": "white",
            "gridwidth": 2,
            "linecolor": "white",
            "showbackground": true,
            "ticks": "",
            "zerolinecolor": "white"
           }
          },
          "shapedefaults": {
           "line": {
            "color": "#2a3f5f"
           }
          },
          "ternary": {
           "aaxis": {
            "gridcolor": "white",
            "linecolor": "white",
            "ticks": ""
           },
           "baxis": {
            "gridcolor": "white",
            "linecolor": "white",
            "ticks": ""
           },
           "bgcolor": "#E5ECF6",
           "caxis": {
            "gridcolor": "white",
            "linecolor": "white",
            "ticks": ""
           }
          },
          "title": {
           "x": 0.05
          },
          "xaxis": {
           "automargin": true,
           "gridcolor": "white",
           "linecolor": "white",
           "ticks": "",
           "title": {
            "standoff": 15
           },
           "zerolinecolor": "white",
           "zerolinewidth": 2
          },
          "yaxis": {
           "automargin": true,
           "gridcolor": "white",
           "linecolor": "white",
           "ticks": "",
           "title": {
            "standoff": 15
           },
           "zerolinecolor": "white",
           "zerolinewidth": 2
          }
         }
        },
        "title": {
         "text": "Distribuição de Categorias de Consumo"
        }
       }
      }
     },
     "metadata": {},
     "output_type": "display_data"
    }
   ],
   "source": [
    "import plotly.express as px\n",
    "\n",
    "contagem_categorias = dados_filtrados['CATEGORIA_CONSUMO'].value_counts()\n",
    "\n",
    "fig = px.pie(\n",
    "    values=contagem_categorias.values,\n",
    "    names=contagem_categorias.index,\n",
    "    title='Distribuição de Categorias de Consumo',\n",
    "    hole=0.3  \n",
    ")\n",
    "\n",
    "fig.show()"
   ]
  }
 ],
 "metadata": {
  "kernelspec": {
   "display_name": "Python 3",
   "language": "python",
   "name": "python3"
  },
  "language_info": {
   "codemirror_mode": {
    "name": "ipython",
    "version": 3
   },
   "file_extension": ".py",
   "mimetype": "text/x-python",
   "name": "python",
   "nbconvert_exporter": "python",
   "pygments_lexer": "ipython3",
   "version": "3.11.9"
  }
 },
 "nbformat": 4,
 "nbformat_minor": 2
}
